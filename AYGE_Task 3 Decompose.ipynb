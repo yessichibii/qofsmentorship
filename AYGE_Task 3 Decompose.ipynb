{
 "cells": [
  {
   "cell_type": "code",
   "execution_count": 27,
   "id": "e67abbad",
   "metadata": {},
   "outputs": [],
   "source": [
    "from qiskit import QuantumCircuit, QuantumRegister\n",
    "from qiskit import transpile \n",
    "from qiskit_aer import Aer\n",
    "import numpy as np"
   ]
  },
  {
   "cell_type": "markdown",
   "id": "17407e53",
   "metadata": {},
   "source": [
    "# Para una compuerta doblemente controlada\n",
    "Se realizan rotaciones controladas con compuertas Hadamard y P"
   ]
  },
  {
   "cell_type": "code",
   "execution_count": 225,
   "id": "e4e8f5d6",
   "metadata": {},
   "outputs": [
    {
     "data": {
      "image/png": "[encoded data removed]",
      "text/plain": [
       "<Figure size 688.597x204.68 with 1 Axes>"
      ]
     },
     "execution_count": 225,
     "metadata": {},
     "output_type": "execute_result"
    }
   ],
   "source": [
    "qc = QuantumCircuit(3)\n",
    "qc.h(2)\n",
    "qc.cx(0,2)\n",
    "qc.tdg(2)\n",
    "qc.cx(1,2)\n",
    "qc.t(2)\n",
    "qc.cx(0,2)\n",
    "qc.tdg(2)\n",
    "qc.cx(1,2)\n",
    "qc.t(2)\n",
    "qc.h(2)\n",
    "qc.draw('mpl')"
   ]
  },
  {
   "cell_type": "markdown",
   "id": "7ebf568d",
   "metadata": {},
   "source": [
    "Empleando solamente la compuerta U se emplean los siguientes ángulos:\n",
    "para obtener el mismo resultado de la Hadamard se emplea (pi/2,0,pi)\n",
    "para obtener el mismo resultado de la la $T$ se emplea (0,0,pi/4) y la $T\\dagger$"
   ]
  },
  {
   "cell_type": "code",
   "execution_count": 221,
   "id": "124fa23b",
   "metadata": {},
   "outputs": [],
   "source": [
    "def toffoli() -> QuantumCircuit:\n",
    "    qr = QuantumRegister(3, \"q\")\n",
    "    qc = QuantumCircuit(qr)\n",
    "    qc.u(np.pi/2, 0, np.pi, qr[2])# H\n",
    "    qc.cx(qr[0],qr[2])# CX\n",
    "    qc.u(0, 0, -np.pi/4, qr[2])# T-1\n",
    "    qc.cx(qr[1],qr[2])# CX\n",
    "    qc.u(0, 0, np.pi/4, qr[2])# T\n",
    "    qc.cx(qr[0],qr[2])# H\n",
    "    qc.u(0, 0, -np.pi/4, qr[2])# T-1\n",
    "    qc.cx(qr[1],qr[2])# CX\n",
    "    qc.u(0, 0, np.pi/4, qr[2])# T\n",
    "    qc.u(np.pi/2, 0, np.pi, qr[2])# H\n",
    "    return qc\n"
   ]
  },
  {
   "cell_type": "markdown",
   "id": "d00da028",
   "metadata": {},
   "source": [
    "Probando la descomposición de la compuerta"
   ]
  },
  {
   "cell_type": "code",
   "execution_count": 222,
   "id": "a8f2997c",
   "metadata": {},
   "outputs": [
    {
     "name": "stdout",
     "output_type": "stream",
     "text": [
      "000 - {'000': 1.000000000000001}\n",
      "001 - {'001': 1.0}\n",
      "010 - {'010': 1.000000000000001}\n",
      "011 - {'011': 1.0}\n",
      "100 - {'100': 1.000000000000001}\n",
      "101 - {'101': 1.0}\n",
      "110 - {'111': 1.0}\n",
      "111 - {'110': 1.000000000000001}\n"
     ]
    }
   ],
   "source": [
    "arreglo = ['000','001','010','011','100','101','110','111']\n",
    "\n",
    "for dato in arreglo:\n",
    "    qr = QuantumRegister(3, \"q\")\n",
    "    qc = QuantumCircuit(qr)\n",
    "    cont = 0\n",
    "    for i in reversed(dato):\n",
    "        if i == '1':\n",
    "            qc.x(qr[cont])\n",
    "        cont += 1\n",
    "\n",
    "    qc.append(toffoli(), [qr[2],qr[1],qr[0]])\n",
    "\n",
    "    backend = Aer.get_backend('statevector_simulator')\n",
    "    compilado = transpile(qc, backend)\n",
    "    job = backend.run(compilado, shots=1024) \n",
    "    result = job.result()\n",
    "    counts = result.get_counts()\n",
    "    \n",
    "    print(dato,\"-\",counts)"
   ]
  },
  {
   "cell_type": "markdown",
   "id": "86e5ca83",
   "metadata": {},
   "source": [
    "## Compuerta multicontrolada\n",
    "Generalizando es uso de la compuerta anterior, se aplican las misma rotaciones en una función recursiva"
   ]
  },
  {
   "cell_type": "code",
   "execution_count": null,
   "id": "fbdd2e28",
   "metadata": {},
   "outputs": [],
   "source": [
    "def rotaciones(numControl,total):\n",
    "    qr = QuantumRegister(total+1, \"q\")\n",
    "    qc = QuantumCircuit(qr)\n",
    "    \n",
    "    qc.u(0, 0, -np.pi/4, qr[total]) #T-1\n",
    "    qc.cx(qr[numControl], qr[total]) #CX\n",
    "    qc.u(0, 0, np.pi/4, qr[total]) #T #T-1\n",
    "    \n",
    "    return qc.to_instruction()\n",
    "\n",
    "def Haddamard(total):\n",
    "    qr = QuantumRegister(total+1, \"q\")\n",
    "    qc = QuantumCircuit(qr)\n",
    "    \n",
    "    qc.u(np.pi/2, 0, np.pi, qr[total]) #H\n",
    "    \n",
    "    return qc.to_instruction()\n",
    "\n",
    "\n",
    "def multiControlGeneral(numControl,total) -> QuantumCircuit:\n",
    "    qr = QuantumRegister(total+1, \"q\")\n",
    "    qc = QuantumCircuit(qr)\n",
    "        \n",
    "    qubitControl = []\n",
    "    for j in range(total+1):\n",
    "        qubitControl.append(qr[j])\n",
    "\n",
    "    if numControl == 1:\n",
    "        qc.cx(qr[0],qr[total])#t,C\n",
    "    else:        \n",
    "        numControl -= 1\n",
    "\n",
    "        qc.append(Haddamard(total),qubitControl)\n",
    "        \n",
    "        qc.append(multiControlGeneral(numControl,total),qubitControl)\n",
    "        qc.append(rotaciones(numControl,total),qubitControl)        \n",
    "        qc.append(multiControlGeneral(numControl,total),qubitControl)\n",
    "        qc.append(rotaciones(numControl,total),qubitControl)\n",
    "        \n",
    "        qc.append(Haddamard(total),qubitControl)\n",
    "        \n",
    "    return qc.to_instruction()"
   ]
  },
  {
   "cell_type": "markdown",
   "id": "64545b6d",
   "metadata": {},
   "source": [
    "Probando con diferentes arreglos para el uso en multiples controles"
   ]
  },
  {
   "cell_type": "code",
   "execution_count": 223,
   "id": "56520883",
   "metadata": {},
   "outputs": [
    {
     "name": "stdout",
     "output_type": "stream",
     "text": [
      "00000 - {'00000': 1.000000000000004}\n",
      "00001 - {'00001': 1.000000000000003}\n",
      "00010 - {'00010': 1.000000000000004}\n",
      "00011 - {'00011': 1.000000000000003}\n",
      "00100 - {'00100': 1.000000000000004}\n",
      "00101 - {'00101': 1.000000000000003}\n",
      "00110 - {'00110': 1.000000000000003}\n",
      "00111 - {'00111': 1.000000000000003}\n",
      "01000 - {'01000': 1.000000000000003}\n",
      "01001 - {'01001': 1.000000000000003}\n",
      "01010 - {'01010': 1.000000000000004}\n",
      "01011 - {'01011': 1.000000000000003}\n",
      "01100 - {'01100': 1.000000000000004}\n",
      "01101 - {'01101': 1.000000000000003}\n",
      "01110 - {'01110': 1.000000000000003}\n",
      "01111 - {'01111': 1.000000000000003}\n",
      "10000 - {'10000': 1.000000000000003}\n",
      "10001 - {'10001': 1.000000000000003}\n",
      "10010 - {'10010': 1.000000000000004}\n",
      "10011 - {'10011': 1.000000000000003}\n",
      "10100 - {'10100': 1.000000000000004}\n",
      "10101 - {'10101': 1.000000000000003}\n",
      "10110 - {'10110': 1.000000000000003}\n",
      "10111 - {'10111': 1.000000000000003}\n",
      "11000 - {'11000': 1.000000000000004}\n",
      "11001 - {'11001': 1.000000000000003}\n",
      "11010 - {'11010': 1.000000000000003}\n",
      "11011 - {'11011': 1.000000000000003}\n",
      "11100 - {'11100': 1.000000000000004}\n",
      "11101 - {'11101': 1.000000000000004}\n",
      "11110 - {'11111': 1.000000000000004}\n",
      "11111 - {'11110': 1.000000000000004}\n"
     ]
    }
   ],
   "source": [
    "# arreglo = ['00','01','10','11']\n",
    "# arreglo = ['000','001','010','011','100','101','110','111']\n",
    "# arreglo = ['0000','0001','0010','0011','0100','0101','0110','0111',\n",
    "#            '1000','1001','1010','1011','1100','1101','1110','1111']\n",
    "arreglo = ['00000','00001','00010','00011','00100','00101','00110','00111',\n",
    "           '01000','01001','01010','01011','01100','01101','01110','01111',\n",
    "           '10000','10001','10010','10011','10100','10101','10110','10111',\n",
    "           '11000','11001','11010','11011','11100','11101','11110','11111']\n",
    "\n",
    "for dato in arreglo:\n",
    "    numControl = 4\n",
    "    qr = QuantumRegister(numControl+1, \"q\")\n",
    "    qc = QuantumCircuit(qr)\n",
    "    cont = 0\n",
    "    for i in reversed(dato):\n",
    "        if i == '1':\n",
    "            qc.x(qr[cont])\n",
    "        cont += 1\n",
    "    \n",
    "    qubitControl = []\n",
    "    for j in range(numControl,-1,-1):\n",
    "        qubitControl.append(qr[j])\n",
    "\n",
    "    qc.append(multiControlGeneral(numControl,numControl), qubitControl)\n",
    "\n",
    "    backend = Aer.get_backend('statevector_simulator')\n",
    "    compilado = transpile(qc, backend)\n",
    "    job = backend.run(compilado, shots=1024) \n",
    "    result = job.result()\n",
    "    counts = result.get_counts()\n",
    "    \n",
    "    print(dato,\"-\",counts)\n"
   ]
  }
 ],
 "metadata": {
  "kernelspec": {
   "display_name": "Python 3",
   "language": "python",
   "name": "python3"
  },
  "language_info": {
   "codemirror_mode": {
    "name": "ipython",
    "version": 3
   },
   "file_extension": ".py",
   "mimetype": "text/x-python",
   "name": "python",
   "nbconvert_exporter": "python",
   "pygments_lexer": "ipython3",
   "version": "3.9.5"
  }
 },
 "nbformat": 4,
 "nbformat_minor": 5
}
