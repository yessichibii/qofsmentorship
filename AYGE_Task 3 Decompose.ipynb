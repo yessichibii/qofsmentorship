{
 "cells": [
  {
   "cell_type": "code",
   "execution_count": 1,
   "id": "e67abbad",
   "metadata": {},
   "outputs": [],
   "source": [
    "from qiskit import QuantumCircuit, QuantumRegister\n",
    "from qiskit import transpile \n",
    "from qiskit_aer import Aer\n",
    "import numpy as np"
   ]
  },
  {
   "cell_type": "markdown",
   "id": "17407e53",
   "metadata": {},
   "source": [
    "# For a double controlled gate \n",
    "\n",
    "We used controlled rotation are performed with Hadamard and P gates.\n",
    "\n",
    "Considering the external product of the matrices for H and P (unitary gates) for three qubits we have:\n",
    "\n",
    "\\begin{split} I \\otimes I \\otimes H =\n",
    "\\frac{1}{\\sqrt{2}}\n",
    "\\begin{pmatrix}\n",
    "1 &  1 & 0 &  0 & 0 &  0 & 0 &  0 \\\\\n",
    "1 & -1 & 0 &  0 & 0 &  0 & 0 &  0 \\\\\n",
    "0 &  0 & 1 &  1 & 0 &  0 & 0 &  0 \\\\\n",
    "0 &  0 & 1 & -1 & 0 &  0 & 0 &  0 \\\\\n",
    "0 &  0 & 0 &  0 & 1 &  1 & 0 &  0 \\\\\n",
    "0 &  0 & 0 &  0 & 1 & -1 & 0 &  0 \\\\\n",
    "0 &  0 & 0 &  0 & 0 &  0 & 1 &  1 \\\\\n",
    "0 &  0 & 0 &  0 & 0 &  0 & 1 & -1 \\\\\n",
    "\\end{pmatrix} \\end{split}\n",
    "\n",
    "\n",
    "\n",
    "\\begin{split} I \\otimes I \\otimes T =\n",
    "\\begin{pmatrix}\n",
    "1 &  0 & 0 &  0 & 0 &  0 & 0 &  0 \\\\\n",
    "0 &  e^{i \\frac{\\pi}{4}} & 0 &  0 & 0 &  0 & 0 &  0 \\\\\n",
    "0 &  0 & 1 &  0 & 0 &  0 & 0 &  0 \\\\\n",
    "0 &  0 & 0 & e^{i \\frac{\\pi}{4}} & 0 &  0 & 0 &  0 \\\\\n",
    "0 &  0 & 0 &  0 & 1 &  0 & 0 &  0 \\\\\n",
    "0 &  0 & 0 &  0 & 0 & e^{i \\frac{\\pi}{4}} & 0 &  0 \\\\\n",
    "0 &  0 & 0 &  0 & 0 &  0 & 1 &  0 \\\\\n",
    "0 &  0 & 0 &  0 & 0 &  0 & 0 & e^{i \\frac{\\pi}{4}} \\\\\n",
    "\\end{pmatrix} \\end{split}\n",
    "\n",
    "\n",
    "\\begin{split} I \\otimes I \\otimes T \\dagger =\n",
    "\\begin{pmatrix}\n",
    "1 &  0 & 0 &  0 & 0 &  0 & 0 &  0 \\\\\n",
    "0 &  e^{-i \\frac{\\pi}{4}} & 0 &  0 & 0 &  0 & 0 &  0 \\\\\n",
    "0 &  0 & 1 &  0 & 0 &  0 & 0 &  0 \\\\\n",
    "0 &  0 & 0 & e^{-i \\frac{\\pi}{4}} & 0 &  0 & 0 &  0 \\\\\n",
    "0 &  0 & 0 &  0 & 1 &  0 & 0 &  0 \\\\\n",
    "0 &  0 & 0 &  0 & 0 & e^{-i \\frac{\\pi}{4}} & 0 &  0 \\\\\n",
    "0 &  0 & 0 &  0 & 0 &  0 & 1 &  0 \\\\\n",
    "0 &  0 & 0 &  0 & 0 &  0 & 0 & e^{-i \\frac{\\pi}{4}} \\\\\n",
    "\\end{pmatrix}\\end{split}\n",
    "\n",
    "\n",
    "In the same way, we can calculate the matrices in each qubit and the controlled ones can be calculated, for example:\n",
    "\n",
    "\\begin{split} I \\otimes CX =\n",
    "\\begin{pmatrix}\n",
    "1 &  0 & 0 &  0 & 0 &  0 & 0 &  0 \\\\\n",
    "0 &  1 & 0 &  0 & 0 &  0 & 0 &  0 \\\\\n",
    "0 &  0 & 0 &  1 & 0 &  0 & 0 &  0 \\\\\n",
    "0 &  0 & 1 &  0 & 0 &  0 & 0 &  0 \\\\\n",
    "0 &  0 & 0 &  0 & 1 &  0 & 0 &  0 \\\\\n",
    "0 &  0 & 0 &  0 & 0 &  1 & 0 &  0 \\\\\n",
    "0 &  0 & 0 &  0 & 0 &  0 & 0 &  1 \\\\\n",
    "0 &  0 & 0 &  0 & 0 &  0 & 1 &  0 \\\\\n",
    "\\end{pmatrix}\\end{split}"
   ]
  },
  {
   "cell_type": "code",
   "execution_count": 2,
   "id": "e4e8f5d6",
   "metadata": {},
   "outputs": [
    {
     "data": {
      "image/png": "[encoded data removed]",
      "text/plain": [
       "<Figure size 929.397x204.68 with 1 Axes>"
      ]
     },
     "execution_count": 2,
     "metadata": {},
     "output_type": "execute_result"
    }
   ],
   "source": [
    "qc = QuantumCircuit(3)\n",
    "qc.h(2)\n",
    "qc.cx(0,2)\n",
    "qc.tdg(2)\n",
    "qc.cx(1,2)\n",
    "qc.t(2)\n",
    "qc.cx(0,2)\n",
    "qc.tdg(2)\n",
    "qc.cx(1,2)\n",
    "qc.t(2)\n",
    "qc.h(2)\n",
    "\n",
    "qc.tdg(1)\n",
    "qc.cx(0,1)\n",
    "qc.tdg(1)\n",
    "qc.t(0)\n",
    "qc.cx(0,1)\n",
    "qc.t(1)\n",
    "qc.t(1)\n",
    "qc.draw('mpl')"
   ]
  },
  {
   "cell_type": "code",
   "execution_count": 3,
   "id": "b13bab70",
   "metadata": {},
   "outputs": [
    {
     "name": "stdout",
     "output_type": "stream",
     "text": [
      "Operator([[ 1.+0.j,  0.+0.j,  0.+0.j,  0.+0.j,  0.-0.j,  0.+0.j,  0.+0.j,\n",
      "            0.+0.j],\n",
      "          [ 0.+0.j,  1.+0.j,  0.+0.j,  0.+0.j,  0.+0.j, -0.-0.j,  0.+0.j,\n",
      "            0.+0.j],\n",
      "          [ 0.+0.j,  0.+0.j,  1.-0.j,  0.+0.j,  0.+0.j,  0.+0.j, -0.+0.j,\n",
      "            0.+0.j],\n",
      "          [ 0.+0.j,  0.+0.j,  0.+0.j, -0.-0.j,  0.+0.j,  0.+0.j,  0.+0.j,\n",
      "            1.-0.j],\n",
      "          [ 0.-0.j,  0.+0.j,  0.+0.j,  0.+0.j,  1.-0.j,  0.+0.j,  0.+0.j,\n",
      "            0.+0.j],\n",
      "          [ 0.+0.j, -0.-0.j,  0.+0.j,  0.+0.j,  0.+0.j,  1.-0.j,  0.+0.j,\n",
      "            0.+0.j],\n",
      "          [ 0.+0.j,  0.+0.j, -0.-0.j,  0.+0.j,  0.+0.j,  0.+0.j,  1.-0.j,\n",
      "            0.+0.j],\n",
      "          [ 0.+0.j,  0.+0.j,  0.+0.j,  1.-0.j,  0.+0.j,  0.+0.j,  0.+0.j,\n",
      "           -0.+0.j]],\n",
      "         input_dims=(2, 2, 2), output_dims=(2, 2, 2))\n"
     ]
    }
   ],
   "source": [
    "backend = Aer.get_backend('unitary_simulator')\n",
    "compilado = transpile(qc, backend)\n",
    "job = backend.run(compilado) \n",
    "result = job.result().get_unitary(qc, decimals=3)\n",
    "print(result)"
   ]
  },
  {
   "cell_type": "markdown",
   "id": "c48e8030",
   "metadata": {},
   "source": [
    "# Bibliography\n",
    "\n",
    "Resumen de operaciones cuánticas — Documentación de Qiskit - 0.43.1. (s. f.). https://qiskit.org/documentation/locale/es_UN/tutorials/circuits/3_summary_of_quantum_operations.html\n",
    "\n",
    "Gatti, L., García López de Lacalle, J., Buksman, E., & Fonseca de Oliveira, A. (2016). Conjuntos universales de compuertas para computación cuántica.\n",
    "    "
   ]
  },
  {
   "cell_type": "markdown",
   "id": "295090f8",
   "metadata": {},
   "source": [
    "## Using U gate"
   ]
  },
  {
   "cell_type": "markdown",
   "id": "7ebf568d",
   "metadata": {},
   "source": [
    "Using only the U gate, the following angles are used:\n",
    "To obtain the same result as the Hadamard ($\\frac{\\pi}{2}$,0,$ \\pi $) is used.\n",
    "$$\n",
    "H = u(\\pi/2,0,\\pi)\n",
    "$$ \n",
    "\n",
    "To obtain the same result ot the $T$  we used (0,0,$\\frac{\\pi}{4}$)\n",
    "\n",
    "$$\n",
    "T = u(0,0,\\frac{\\pi}{4})\n",
    "$$\n",
    "\n",
    "For $T\\dagger$ we  only changes the sign of the angle\n",
    "\n",
    "$$\n",
    "T \\dagger = u(0,0,\\frac{-\\pi}{4})\n",
    "$$"
   ]
  },
  {
   "cell_type": "code",
   "execution_count": 4,
   "id": "124fa23b",
   "metadata": {},
   "outputs": [],
   "source": [
    "def toffoli() -> QuantumCircuit:\n",
    "    qr = QuantumRegister(3, \"q\")\n",
    "    qc = QuantumCircuit(qr)\n",
    "    qc.u(np.pi/2, 0, np.pi, qr[2])# H\n",
    "    qc.cx(qr[0],qr[2])# CX\n",
    "    qc.u(0, 0, -np.pi/4, qr[2])# T-1\n",
    "    qc.cx(qr[1],qr[2])# CX\n",
    "    qc.u(0, 0, np.pi/4, qr[2])# T\n",
    "    qc.cx(qr[0],qr[2])# H\n",
    "    qc.u(0, 0, -np.pi/4, qr[2])# T-1\n",
    "    qc.cx(qr[1],qr[2])# CX\n",
    "    qc.u(0, 0, np.pi/4, qr[2])# T\n",
    "    qc.u(np.pi/2, 0, np.pi, qr[2])# H\n",
    "    \n",
    "    qc.u(0, 0, -np.pi/4, qr[1])# T-1    \n",
    "    qc.cx(qr[0],qr[1])# CX       \n",
    "    qc.u(0, 0, -np.pi/4, qr[1])# T-1\n",
    "    qc.u(0, 0, np.pi/4, qr[0])# T    \n",
    "    qc.cx(qr[0],qr[1])# CX            \n",
    "    qc.u(0, 0, np.pi/4, qr[1])# T    \n",
    "    qc.u(0, 0, np.pi/4, qr[1])# T\n",
    "    \n",
    "    return qc\n"
   ]
  },
  {
   "cell_type": "markdown",
   "id": "d00da028",
   "metadata": {},
   "source": [
    "Testing the decomposition of the gate"
   ]
  },
  {
   "cell_type": "code",
   "execution_count": 5,
   "id": "a8f2997c",
   "metadata": {},
   "outputs": [
    {
     "name": "stdout",
     "output_type": "stream",
     "text": [
      "000 - {'000': 1.000000000000001}\n",
      "001 - {'001': 1.0}\n",
      "010 - {'010': 1.000000000000001}\n",
      "011 - {'011': 1.000000000000001}\n",
      "100 - {'100': 1.000000000000001}\n",
      "101 - {'101': 1.000000000000001}\n",
      "110 - {'111': 1.0}\n",
      "111 - {'110': 1.000000000000001}\n"
     ]
    }
   ],
   "source": [
    "arreglo = ['000','001','010','011','100','101','110','111']\n",
    "\n",
    "# The arrangement is traversed to test the combinations with 3 qubits\n",
    "for dato in arreglo:\n",
    "    #     The 3-qubit circuit is created\n",
    "    qr = QuantumRegister(3, \"q\")\n",
    "    qc = QuantumCircuit(qr)\n",
    "    cont = 0\n",
    "    \n",
    "    #     It is initialized according to the array data\n",
    "    for i in reversed(dato):\n",
    "        if i == '1':\n",
    "            qc.x(qr[cont])\n",
    "        cont += 1\n",
    "\n",
    "    #     The rotations instruction is added, which is equivalent to the CCX\n",
    "    qc.append(toffoli(), [qr[2],qr[1],qr[0]])\n",
    "\n",
    "    #     It is compiled to obtain the result and displayed on the screen\n",
    "    backend = Aer.get_backend('statevector_simulator')\n",
    "    compilado = transpile(qc, backend)\n",
    "    job = backend.run(compilado) \n",
    "    result = job.result()\n",
    "    counts = result.get_counts()\n",
    "    \n",
    "    print(dato,\"-\",counts)"
   ]
  },
  {
   "cell_type": "markdown",
   "id": "86e5ca83",
   "metadata": {},
   "source": [
    "## Multi-controlled gate\n",
    "Generalizing the use of the previous gate, the same rotations are applied in a recursive function"
   ]
  },
  {
   "cell_type": "code",
   "execution_count": 6,
   "id": "fbdd2e28",
   "metadata": {},
   "outputs": [],
   "source": [
    "#     Sequence of T rotations applied to the target qubit and the controlled gate\n",
    "def rotaciones(numControl,total):\n",
    "    qr = QuantumRegister(total+1, \"q\")\n",
    "    qc = QuantumCircuit(qr)\n",
    "    \n",
    "    qc.u(0, 0, -np.pi/4, qr[total]) #T-1\n",
    "    qc.cx(qr[numControl], qr[total]) #CX\n",
    "    qc.u(0, 0, np.pi/4, qr[total]) #T #T-1\n",
    "    \n",
    "    return qc.to_instruction()\n",
    "\n",
    "def cambioSigno(numControl,total):\n",
    "    qr = QuantumRegister(total+1, \"q\")\n",
    "    qc = QuantumCircuit(qr)\n",
    "    \n",
    "    qc.u(0, 0, -np.pi/4, qr[numControl])# T-1    \n",
    "    qc.cx(qr[numControl-1],qr[numControl])# CX       \n",
    "    qc.u(0, 0, -np.pi/4, qr[numControl])# T-1\n",
    "    qc.u(0, 0, np.pi/4, qr[numControl-1])# T    \n",
    "    qc.cx(qr[numControl-1],qr[numControl])# CX            \n",
    "    qc.u(0, 0, np.pi/4, qr[numControl])# T    \n",
    "    qc.u(0, 0, np.pi/4, qr[numControl])# T\n",
    "    \n",
    "    return qc.to_instruction()\n",
    "\n",
    "#     Equivalent instruction for Hadamard gate\n",
    "def Haddamard(total):\n",
    "    qr = QuantumRegister(total+1, \"q\")\n",
    "    qc = QuantumCircuit(qr)\n",
    "    \n",
    "    qc.u(np.pi/2, 0, np.pi, qr[total]) #H\n",
    "    \n",
    "    return qc.to_instruction()\n",
    "\n",
    "#     Recursive statement to apply the controls\n",
    "def multiControlGeneral(numControl,total) -> QuantumCircuit:\n",
    "    #     Define the circuit\n",
    "    qr = QuantumRegister(total+1, \"q\")\n",
    "    qc = QuantumCircuit(qr)\n",
    "    \n",
    "    #     Define the arrangement of the control qubits\n",
    "    qubitControl = []\n",
    "    for j in range(total+1):\n",
    "        qubitControl.append(qr[j])\n",
    "\n",
    "    #     If only one control is missing, the CX is applied\n",
    "    if numControl == 1:\n",
    "        qc.cx(qr[0],qr[total])#t,C\n",
    "    else:\n",
    "        #     One is reduced to the control number and the Hadamard gates, control,\n",
    "        #  and rotations, recursion is applied here \n",
    "        numControl -= 1\n",
    "\n",
    "        qc.append(Haddamard(total),qubitControl)\n",
    "        \n",
    "        qc.append(multiControlGeneral(numControl,total),qubitControl)\n",
    "        qc.append(rotaciones(numControl,total),qubitControl)        \n",
    "        qc.append(multiControlGeneral(numControl,total),qubitControl)\n",
    "        qc.append(rotaciones(numControl,total),qubitControl)\n",
    "        \n",
    "        qc.append(Haddamard(total),qubitControl)\n",
    "        \n",
    "        qc.append(cambioSigno(numControl,total),qubitControl)\n",
    "        \n",
    "        \n",
    "    return qc.to_instruction()"
   ]
  },
  {
   "cell_type": "markdown",
   "id": "64545b6d",
   "metadata": {},
   "source": [
    "Testing the matrix with multicontrols"
   ]
  },
  {
   "cell_type": "code",
   "execution_count": 7,
   "id": "293e8c84",
   "metadata": {},
   "outputs": [
    {
     "name": "stdout",
     "output_type": "stream",
     "text": [
      "Operator([[ 1.+0.j, -0.-0.j,  0.+0.j, ...,  0.+0.j,  0.+0.j,  0.+0.j],\n",
      "          [-0.-0.j,  1.+0.j,  0.+0.j, ...,  0.+0.j,  0.+0.j,  0.+0.j],\n",
      "          [ 0.+0.j,  0.+0.j,  1.+0.j, ...,  0.+0.j,  0.+0.j,  0.+0.j],\n",
      "          ...,\n",
      "          [ 0.+0.j,  0.+0.j,  0.+0.j, ...,  1.+0.j,  0.+0.j,  0.+0.j],\n",
      "          [ 0.+0.j,  0.+0.j,  0.+0.j, ...,  0.+0.j,  0.-0.j,  1.+0.j],\n",
      "          [ 0.+0.j,  0.+0.j,  0.+0.j, ...,  0.+0.j,  1.-0.j,  0.+0.j]],\n",
      "         input_dims=(2, 2, 2, 2, 2), output_dims=(2, 2, 2, 2, 2))\n"
     ]
    }
   ],
   "source": [
    "dato = '00000'\n",
    "qr = QuantumRegister(5, \"q\")\n",
    "qc = QuantumCircuit(qr)\n",
    "\n",
    "cont = 0\n",
    "for i in reversed(dato):\n",
    "    if i == '1':\n",
    "        qc.x(qr[cont])\n",
    "    cont += 1\n",
    "    \n",
    "qubitControl = []\n",
    "for j in range(4,-1,-1):\n",
    "    qubitControl.append(qr[j])\n",
    "\n",
    "qc.append(multiControlGeneral(4,4), qubitControl)\n",
    "backend = Aer.get_backend('unitary_simulator')\n",
    "compilado = transpile(qc, backend)\n",
    "job = backend.run(compilado) \n",
    "result = job.result().get_unitary(qc, decimals=3)\n",
    "print(result)"
   ]
  },
  {
   "cell_type": "markdown",
   "id": "d88a6b4c",
   "metadata": {},
   "source": [
    "Trying different arrangements for use on multiple controls"
   ]
  },
  {
   "cell_type": "code",
   "execution_count": 8,
   "id": "56520883",
   "metadata": {},
   "outputs": [
    {
     "name": "stdout",
     "output_type": "stream",
     "text": [
      "00000 - {'00000': 1.000000000000004}\n",
      "00001 - {'00001': 1.000000000000003}\n",
      "00010 - {'00010': 1.000000000000004}\n",
      "00011 - {'00011': 1.000000000000004}\n",
      "00100 - {'00100': 1.000000000000004}\n",
      "00101 - {'00101': 1.000000000000003}\n",
      "00110 - {'00110': 1.000000000000004}\n",
      "00111 - {'00111': 1.000000000000003}\n",
      "01000 - {'01000': 1.000000000000004}\n",
      "01001 - {'01001': 1.000000000000004}\n",
      "01010 - {'01010': 1.000000000000004}\n",
      "01011 - {'01011': 1.000000000000004}\n",
      "01100 - {'01100': 1.000000000000006}\n",
      "01101 - {'01101': 1.000000000000004}\n",
      "01110 - {'01110': 1.000000000000004}\n",
      "01111 - {'01111': 1.000000000000004}\n",
      "10000 - {'10000': 1.000000000000004}\n",
      "10001 - {'10001': 1.000000000000004}\n",
      "10010 - {'10010': 1.000000000000004}\n",
      "10011 - {'10011': 1.000000000000004}\n",
      "10100 - {'10100': 1.000000000000006}\n",
      "10101 - {'10101': 1.000000000000004}\n",
      "10110 - {'10110': 1.000000000000004}\n",
      "10111 - {'10111': 1.000000000000003}\n",
      "11000 - {'11000': 1.000000000000004}\n",
      "11001 - {'11001': 1.000000000000004}\n",
      "11010 - {'11010': 1.000000000000004}\n",
      "11011 - {'11011': 1.000000000000004}\n",
      "11100 - {'11100': 1.000000000000005}\n",
      "11101 - {'11101': 1.000000000000005}\n",
      "11110 - {'11111': 1.000000000000005}\n",
      "11111 - {'11110': 1.000000000000005}\n"
     ]
    }
   ],
   "source": [
    "# arreglo = ['00','01','10','11']\n",
    "# arreglo = ['000','001','010','011','100','101','110','111']\n",
    "# arreglo = ['0000','0001','0010','0011','0100','0101','0110','0111',\n",
    "#            '1000','1001','1010','1011','1100','1101','1110','1111']\n",
    "arreglo = ['00000','00001','00010','00011','00100','00101','00110','00111',\n",
    "           '01000','01001','01010','01011','01100','01101','01110','01111',\n",
    "           '10000','10001','10010','10011','10100','10101','10110','10111',\n",
    "           '11000','11001','11010','11011','11100','11101','11110','11111']\n",
    "\n",
    "# Se recorre el arreglo para probar las combinaciones con n qubits\n",
    "for dato in arreglo:\n",
    "    #     Se cea el circuito del numero de controles + 1 qubits\n",
    "    numControl = 4\n",
    "    qr = QuantumRegister(numControl+1, \"q\")\n",
    "    qc = QuantumCircuit(qr)\n",
    "    \n",
    "    #     Se inicializa de acuerdo con el dato del arreglo\n",
    "    cont = 0\n",
    "    for i in reversed(dato):\n",
    "        if i == '1':\n",
    "            qc.x(qr[cont])\n",
    "        cont += 1\n",
    "    \n",
    "    qubitControl = []\n",
    "    for j in range(numControl,-1,-1):\n",
    "        qubitControl.append(qr[j])\n",
    "\n",
    "    #     Se agrega la instruccion recursiva con el numero de contrles\n",
    "    qc.append(multiControlGeneral(numControl,numControl), qubitControl)\n",
    "\n",
    "    #     Se compila para obtener el resultado y se muestra en pantalla\n",
    "    backend = Aer.get_backend('statevector_simulator')\n",
    "    compilado = transpile(qc, backend)\n",
    "    job = backend.run(compilado, shots=1024) \n",
    "    result = job.result()\n",
    "    counts = result.get_counts()\n",
    "    \n",
    "    print(dato,\"-\",counts)\n"
   ]
  }
 ],
 "metadata": {
  "kernelspec": {
   "display_name": "Python 3",
   "language": "python",
   "name": "python3"
  },
  "language_info": {
   "codemirror_mode": {
    "name": "ipython",
    "version": 3
   },
   "file_extension": ".py",
   "mimetype": "text/x-python",
   "name": "python",
   "nbconvert_exporter": "python",
   "pygments_lexer": "ipython3",
   "version": "3.9.5"
  }
 },
 "nbformat": 4,
 "nbformat_minor": 5
}
